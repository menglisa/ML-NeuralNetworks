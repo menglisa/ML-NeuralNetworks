{
 "cells": [
  {
   "cell_type": "markdown",
   "metadata": {
    "colab_type": "text",
    "id": "s_i4a8_6CDc4",
    "provenance": [
     {
      "last_modified": "2020-04-10T05:32:36.000Z",
      "source": "Read training data list"
     }
    ]
   },
   "source": [
    "Read training data list"
   ]
  },
  {
   "cell_type": "code",
   "execution_count": 0,
   "metadata": {
    "colab": {
     "base_uri": "https://localhost:8080/",
     "height": 34
    },
    "colab_type": "code",
    "executionInfo": {
     "elapsed": 694,
     "status": "ok",
     "timestamp": 1586482249048,
     "user": {
      "displayName": "shagun gupta",
      "photoUrl": "https://lh3.googleusercontent.com/a-/AOh14Gi00i7-GRr42uUUPObpB_JPCTxu9SSDZYJeG5g5=s64",
      "userId": "18231311259389961451"
     },
     "user_tz": 420
    },
    "id": "yKx5l0DuCLXe",
    "outputId": "29b4e693-c5bf-4c01-e8e7-7d376d583f48",
    "provenance": [
     {
      "end_time": "Unknown",
      "execution_time": "Unknown",
      "outputs": [
       {
        "name": "stdout",
        "output_type": "stream",
        "text": "Drive already mounted at /content/drive; to attempt to forcibly remount, call drive.mount(\"/content/drive\", force_remount=True).\n"
       }
      ],
      "source": "from google.colab import drive\nimport pandas as pd\nimport numpy as np\nimport matplotlib.pyplot as plt\nimport matplotlib.image as mpimg\nimport math\ndrive.mount('/content/drive')\ndefault_path = '/content/drive/My Drive/INF ML 552/HW5 - Neural Networks/'\n# training_list = pd.read_csv(default_path + 'downgesture_train.list.txt', header=None, sep=',')\n# training_list",
      "start_time": "Unknown"
     }
    ]
   },
   "outputs": [
    {
     "name": "stdout",
     "output_type": "stream",
     "text": [
      "Drive already mounted at /content/drive; to attempt to forcibly remount, call drive.mount(\"/content/drive\", force_remount=True).\n"
     ]
    }
   ],
   "source": [
    "from google.colab import drive\n",
    "import pandas as pd\n",
    "import numpy as np\n",
    "import matplotlib.pyplot as plt\n",
    "import matplotlib.image as mpimg\n",
    "import math\n",
    "drive.mount('/content/drive')\n",
    "default_path = '/content/drive/My Drive/INF ML 552/HW5 - Neural Networks/'\n",
    "# training_list = pd.read_csv(default_path + 'downgesture_train.list.txt', header=None, sep=',')\n",
    "# training_list"
   ]
  },
  {
   "cell_type": "markdown",
   "metadata": {
    "colab_type": "text",
    "id": "fZJkV6qPCzt6",
    "provenance": [
     {
      "last_modified": "2020-04-10T05:32:36.000Z",
      "source": "Read training data"
     }
    ]
   },
   "source": [
    "Read training data"
   ]
  },
  {
   "cell_type": "code",
   "execution_count": 0,
   "metadata": {
    "colab": {},
    "colab_type": "code",
    "id": "JAbMcHd1C1Ll",
    "provenance": [
     {
      "end_time": "Unknown",
      "execution_time": "Unknown",
      "outputs": [],
      "source": "# X = input data (pixel_array)\n# y = output (labels)\ndef input_output(file):\n    input_X = []\n    output_y = []\n    with open(default_path + file, 'r') as f:\n        lines = f.readlines()\n        for line in lines:\n            line = line.strip()\n            if \"down\" in line:\n                output_y.append(1)\n            else:\n                output_y.append(0)\n                \n            img_array = mpimg.imread(default_path + line)\n            # normalize the inputs from 0-255 to between 0 and 1 by dividing by 255\n            img_array = img_array.astype('float32')\n            img_array = img_array / 255.0\n            input_X.append(img_array)\n    return input_X, output_y",
      "start_time": "Unknown"
     }
    ]
   },
   "outputs": [],
   "source": [
    "# X = input data (pixel_array)\n",
    "# y = output (labels)\n",
    "def input_output(file):\n",
    "    input_X = []\n",
    "    output_y = []\n",
    "    with open(default_path + file, 'r') as f:\n",
    "        lines = f.readlines()\n",
    "        for line in lines:\n",
    "            line = line.strip()\n",
    "            if \"down\" in line:\n",
    "                output_y.append(1)\n",
    "            else:\n",
    "                output_y.append(0)\n",
    "                \n",
    "            img_array = mpimg.imread(default_path + line)\n",
    "            # normalize the inputs from 0-255 to between 0 and 1 by dividing by 255\n",
    "            img_array = img_array.astype('float32')\n",
    "            img_array = img_array / 255.0\n",
    "            input_X.append(img_array)\n",
    "    return input_X, output_y"
   ]
  },
  {
   "cell_type": "code",
   "execution_count": 0,
   "metadata": {
    "colab": {},
    "colab_type": "code",
    "id": "DK01qYTwEkfW",
    "provenance": [
     {
      "end_time": "Unknown",
      "execution_time": "Unknown",
      "outputs": [],
      "source": "train_X, train_y = input_output('downgesture_train.list.txt')\ntest_X, test_y = input_output('downgesture_test.list.txt')",
      "start_time": "Unknown"
     }
    ]
   },
   "outputs": [],
   "source": [
    "train_X, train_y = input_output('downgesture_train.list.txt')\n",
    "test_X, test_y = input_output('downgesture_test.list.txt')"
   ]
  },
  {
   "cell_type": "code",
   "execution_count": 0,
   "metadata": {
    "colab": {},
    "colab_type": "code",
    "id": "jNBA23Z0HQe5",
    "provenance": [
     {
      "end_time": "Unknown",
      "execution_time": "Unknown",
      "outputs": [],
      "source": "for i in range(len(train_X)):\n  train_X[i] = train_X[i].flatten()\ntrain_X = pd.DataFrame(train_X)\n",
      "start_time": "Unknown"
     }
    ]
   },
   "outputs": [],
   "source": [
    "for i in range(len(train_X)):\n",
    "  train_X[i] = train_X[i].flatten()\n",
    "train_X = pd.DataFrame(train_X)\n"
   ]
  },
  {
   "cell_type": "code",
   "execution_count": 0,
   "metadata": {
    "colab": {},
    "colab_type": "code",
    "id": "d9b7piNsJi-G",
    "provenance": [
     {
      "end_time": "Unknown",
      "execution_time": "Unknown",
      "outputs": [],
      "source": "train_X",
      "start_time": "Unknown"
     }
    ]
   },
   "outputs": [],
   "source": [
    "train_X"
   ]
  },
  {
   "cell_type": "code",
   "execution_count": 0,
   "metadata": {
    "colab": {},
    "colab_type": "code",
    "id": "-76SaFE9JnIf",
    "provenance": [
     {
      "end_time": "Unknown",
      "execution_time": "Unknown",
      "outputs": [],
      "source": "train_y = pd.DataFrame(train_y)",
      "start_time": "Unknown"
     }
    ]
   },
   "outputs": [],
   "source": [
    "train_y = pd.DataFrame(train_y)"
   ]
  },
  {
   "cell_type": "code",
   "execution_count": 0,
   "metadata": {
    "colab": {
     "base_uri": "https://localhost:8080/",
     "height": 51
    },
    "colab_type": "code",
    "executionInfo": {
     "elapsed": 551,
     "status": "ok",
     "timestamp": 1586479495466,
     "user": {
      "displayName": "shagun gupta",
      "photoUrl": "https://lh3.googleusercontent.com/a-/AOh14Gi00i7-GRr42uUUPObpB_JPCTxu9SSDZYJeG5g5=s64",
      "userId": "18231311259389961451"
     },
     "user_tz": 420
    },
    "id": "LvTXSJsCJ0si",
    "outputId": "3b4c4dfc-80c2-4e63-ce66-c669659b5c14",
    "provenance": [
     {
      "end_time": "Unknown",
      "execution_time": "Unknown",
      "outputs": [
       {
        "data": {
         "text/plain": "0    0\nName: 179, dtype: int64"
        },
        "execution_count": 43,
        "metadata": {
         "tags": []
        },
        "output_type": "execute_result"
       }
      ],
      "source": "train_y",
      "start_time": "Unknown"
     }
    ]
   },
   "outputs": [
    {
     "data": {
      "text/plain": [
       "0    0\n",
       "Name: 179, dtype: int64"
      ]
     },
     "execution_count": 43,
     "metadata": {
      "tags": []
     },
     "output_type": "execute_result"
    }
   ],
   "source": [
    "train_y"
   ]
  },
  {
   "cell_type": "markdown",
   "metadata": {
    "colab_type": "text",
    "id": "5x_8BwNkKEFv",
    "provenance": [
     {
      "last_modified": "2020-04-10T05:32:36.000Z",
      "source": "Main neural network function"
     }
    ]
   },
   "source": [
    "Main neural network function"
   ]
  },
  {
   "cell_type": "code",
   "execution_count": 0,
   "metadata": {
    "colab": {},
    "colab_type": "code",
    "id": "p9835Q9dKDtF",
    "provenance": [
     {
      "end_time": "Unknown",
      "execution_time": "Unknown",
      "outputs": [],
      "source": "# build the network\n#         w_ij(l)/b1    w_ij(l+1)/b2   \n#184(inputs) -----> 100 -------> 1(output)\n#   x_i(l-1)  s_j(l)  x_j(l) s_j(l+1)  x_j(l+1)=y\nlearning_rate = 0.1\nepochs = 1000\nweights =[[],[]]\nweights[0] = [get_weights(100) for i in range(961)]\nweights[1] = [get_weights(1) for i in range(101)]\nN = train_X.shape[0]\ninput_size = train_X.shape[1]\nhidden_layer_size = 100\noutput_size = 1\nlevel = [input_size,hidden_layer_size,output_size]",
      "start_time": "Unknown"
     }
    ]
   },
   "outputs": [],
   "source": [
    "# build the network\n",
    "#         w_ij(l)/b1    w_ij(l+1)/b2   \n",
    "#184(inputs) -----> 100 -------> 1(output)\n",
    "#   x_i(l-1)  s_j(l)  x_j(l) s_j(l+1)  x_j(l+1)=y\n",
    "learning_rate = 0.1\n",
    "epochs = 1000\n",
    "weights =[[],[]]\n",
    "weights[0] = [get_weights(100) for i in range(961)]\n",
    "weights[1] = [get_weights(1) for i in range(101)]\n",
    "N = train_X.shape[0]\n",
    "input_size = train_X.shape[1]\n",
    "hidden_layer_size = 100\n",
    "output_size = 1\n",
    "level = [input_size,hidden_layer_size,output_size]"
   ]
  },
  {
   "cell_type": "markdown",
   "metadata": {
    "colab_type": "text",
    "id": "ZAN19l9EKdg2",
    "provenance": [
     {
      "last_modified": "2020-04-10T05:32:36.000Z",
      "source": "Get n random weights between -0.01 to 0.01"
     }
    ]
   },
   "source": [
    "Get n random weights between -0.01 to 0.01"
   ]
  },
  {
   "cell_type": "code",
   "execution_count": 0,
   "metadata": {
    "colab": {},
    "colab_type": "code",
    "id": "sYIAABttKdCs",
    "provenance": [
     {
      "end_time": "Unknown",
      "execution_time": "Unknown",
      "outputs": [],
      "source": "def get_weights(n):\n  w_ij = []\n  for i in range(n):\n    i = np.random.uniform(-0.01,0.01)\n    w_ij.append(i)\n  return w_ij",
      "start_time": "Unknown"
     }
    ]
   },
   "outputs": [],
   "source": [
    "def get_weights(n):\n",
    "  w_ij = []\n",
    "  for i in range(n):\n",
    "    i = np.random.uniform(-0.01,0.01)\n",
    "    w_ij.append(i)\n",
    "  return w_ij"
   ]
  },
  {
   "cell_type": "markdown",
   "metadata": {
    "colab_type": "text",
    "id": "MVyZ5SqHQjKg",
    "provenance": [
     {
      "last_modified": "2020-04-10T05:32:36.000Z",
      "source": "Feed-forward"
     }
    ]
   },
   "source": [
    "Feed-forward"
   ]
  },
  {
   "cell_type": "code",
   "execution_count": 0,
   "metadata": {
    "colab": {},
    "colab_type": "code",
    "id": "0Izni2d6QrNO",
    "provenance": [
     {
      "end_time": "Unknown",
      "execution_time": "Unknown",
      "outputs": [],
      "source": "def sigmoid(s):\n  # print(s)\n  return 1/(1 + np.exp(-s))\n\ndef deriv_sigmoid(s):\n  return sigmoid(s) * (1 - sigmoid(s))\n\ndef feed_forward(w,input_x):\n\n  x= []\n  # print(input_x)\n  x.append(list(input_x))\n  x[0].insert(0,1)\n  x.append([0] * hidden_layer_size)\n  # x[1].insert(0,1)\n  x.append([0] * output_size)\n\n  for l in range(1,3):\n    for j in range(level[l]):\n      for i in range(len(x[l-1])):\n        x[l][j] += w[l-1][i][j] * x[l-1][i]\n      x[l][j] = sigmoid(x[l][j])\n    x[l].insert(0,1)\n  \n  x[2] = x[2][1:]\n  return x\n\n",
      "start_time": "Unknown"
     }
    ]
   },
   "outputs": [],
   "source": [
    "def sigmoid(s):\n",
    "  # print(s)\n",
    "  return 1/(1 + np.exp(-s))\n",
    "\n",
    "def deriv_sigmoid(s):\n",
    "  return sigmoid(s) * (1 - sigmoid(s))\n",
    "\n",
    "def feed_forward(w,input_x):\n",
    "\n",
    "  x= []\n",
    "  # print(input_x)\n",
    "  x.append(list(input_x))\n",
    "  x[0].insert(0,1)\n",
    "  x.append([0] * hidden_layer_size)\n",
    "  # x[1].insert(0,1)\n",
    "  x.append([0] * output_size)\n",
    "\n",
    "  for l in range(1,3):\n",
    "    for j in range(level[l]):\n",
    "      for i in range(len(x[l-1])):\n",
    "        x[l][j] += w[l-1][i][j] * x[l-1][i]\n",
    "      x[l][j] = sigmoid(x[l][j])\n",
    "    x[l].insert(0,1)\n",
    "  \n",
    "  x[2] = x[2][1:]\n",
    "  return x\n",
    "\n"
   ]
  },
  {
   "cell_type": "code",
   "execution_count": 0,
   "metadata": {
    "colab": {},
    "colab_type": "code",
    "id": "NthVoDB4V-ig",
    "provenance": [
     {
      "end_time": "Unknown",
      "execution_time": "Unknown",
      "outputs": [],
      "source": "def get_delta(x,w,y):\n\n  delta = [[0]]\n  delta[0][0] = 2 * (x[2][0] - y) * (1 - math.pow(x[2][0],2))\n  delta.insert(0,[0] * 100)\n  for i in range(1,100):\n    delta[0][i] = 1 - math.pow(x[1][i+1],2) * w[1][i+1][0] * delta[1][0]\n  return delta\n",
      "start_time": "Unknown"
     }
    ]
   },
   "outputs": [],
   "source": [
    "def get_delta(x,w,y):\n",
    "\n",
    "  delta = [[0]]\n",
    "  delta[0][0] = 2 * (x[2][0] - y) * (1 - math.pow(x[2][0],2))\n",
    "  delta.insert(0,[0] * 100)\n",
    "  for i in range(1,100):\n",
    "    delta[0][i] = 1 - math.pow(x[1][i+1],2) * w[1][i+1][0] * delta[1][0]\n",
    "  return delta\n"
   ]
  },
  {
   "cell_type": "code",
   "execution_count": 0,
   "metadata": {
    "colab": {},
    "colab_type": "code",
    "id": "emkQQ6mdjgpz",
    "provenance": [
     {
      "end_time": "Unknown",
      "execution_time": "Unknown",
      "outputs": [],
      "source": "len(delta[0])",
      "start_time": "Unknown"
     }
    ]
   },
   "outputs": [],
   "source": [
    "len(delta[0])"
   ]
  },
  {
   "cell_type": "code",
   "execution_count": 0,
   "metadata": {
    "colab": {},
    "colab_type": "code",
    "id": "iJBGXRnlbcaB",
    "provenance": [
     {
      "end_time": "Unknown",
      "execution_time": "Unknown",
      "outputs": [],
      "source": "def step3_weights(x,w,delta,lr):\n  for l in range(0,2):\n    for j in range(len(delta[l])):\n      for i in range(len(x[l])):\n        w[l][i][j] -= lr *  x[l][i] * delta[l][j]\n  return w\n\nweights2 = step3_weights(lala,weights,delta, learning_rate)",
      "start_time": "Unknown"
     }
    ]
   },
   "outputs": [],
   "source": [
    "def step3_weights(x,w,delta,lr):\n",
    "  for l in range(0,2):\n",
    "    for j in range(len(delta[l])):\n",
    "      for i in range(len(x[l])):\n",
    "        w[l][i][j] -= lr *  x[l][i] * delta[l][j]\n",
    "  return w\n",
    "\n",
    "weights2 = step3_weights(lala,weights,delta, learning_rate)"
   ]
  },
  {
   "cell_type": "code",
   "execution_count": 0,
   "metadata": {
    "colab": {},
    "colab_type": "code",
    "id": "pNMdszmQmqNt",
    "provenance": [
     {
      "end_time": "Unknown",
      "execution_time": "Unknown",
      "outputs": [],
      "source": "def ffbpnn(w,lr):\n  ep = 0\n  for a in range(5):\n    for i in range(N):\n      print(ep)\n      x = feed_forward(w, train_X.iloc[i])\n      delta = get_delta(x,w,train_y.iloc[i][0])\n      w = step3_weights(x,w,delta,lr)\n      ep += 1\n  \n  for i in range(80):\n      print(ep)\n      x = feed_forward(w, train_X.iloc[i])\n      delta = get_delta(x,w,train_y.iloc[i][0])\n      w = step3_weights(x,w,delta,lr)\n      ep += 1\n  \n  return w\n\nw = ffbpnn(weights, learning_rate)",
      "start_time": "Unknown"
     }
    ]
   },
   "outputs": [],
   "source": [
    "def ffbpnn(w,lr):\n",
    "  ep = 0\n",
    "  for a in range(5):\n",
    "    for i in range(N):\n",
    "      print(ep)\n",
    "      x = feed_forward(w, train_X.iloc[i])\n",
    "      delta = get_delta(x,w,train_y.iloc[i][0])\n",
    "      w = step3_weights(x,w,delta,lr)\n",
    "      ep += 1\n",
    "  \n",
    "  for i in range(80):\n",
    "      print(ep)\n",
    "      x = feed_forward(w, train_X.iloc[i])\n",
    "      delta = get_delta(x,w,train_y.iloc[i][0])\n",
    "      w = step3_weights(x,w,delta,lr)\n",
    "      ep += 1\n",
    "  \n",
    "  return w\n",
    "\n",
    "w = ffbpnn(weights, learning_rate)"
   ]
  },
  {
   "cell_type": "code",
   "execution_count": 0,
   "metadata": {
    "colab": {},
    "colab_type": "code",
    "id": "baJvMAHfst_A",
    "provenance": [
     {
      "end_time": "Unknown",
      "execution_time": "Unknown",
      "outputs": [],
      "source": "\npd.DataFrame(w).to_csv(default_path + 'weights.csv', index=False)",
      "start_time": "Unknown"
     }
    ]
   },
   "outputs": [],
   "source": [
    "\n",
    "pd.DataFrame(w).to_csv(default_path + 'weights.csv', index=False)"
   ]
  },
  {
   "cell_type": "code",
   "execution_count": 0,
   "metadata": {
    "colab": {},
    "colab_type": "code",
    "id": "GwPFOYlysPWo",
    "provenance": [
     {
      "end_time": "Unknown",
      "execution_time": "Unknown",
      "outputs": [],
      "source": "for i in range(len(test_X)):\n  test_X[i] = test_X[i].flatten()\ntest_X = pd.DataFrame(test_X)",
      "start_time": "Unknown"
     }
    ]
   },
   "outputs": [],
   "source": [
    "for i in range(len(test_X)):\n",
    "  test_X[i] = test_X[i].flatten()\n",
    "test_X = pd.DataFrame(test_X)"
   ]
  },
  {
   "cell_type": "code",
   "execution_count": 0,
   "metadata": {
    "colab": {},
    "colab_type": "code",
    "id": "LRu0dhLXoeYJ",
    "provenance": [
     {
      "end_time": "Unknown",
      "execution_time": "Unknown",
      "outputs": [],
      "source": "def testing(test_X,weights):\n  y_pred = test_X.apply(lambda z : feed_forward(weights,z)[2][0], axis=1)\n  return y_pred\n\n",
      "start_time": "Unknown"
     }
    ]
   },
   "outputs": [],
   "source": [
    "def testing(test_X,weights):\n",
    "  y_pred = test_X.apply(lambda z : feed_forward(weights,z)[2][0], axis=1)\n",
    "  return y_pred\n",
    "\n"
   ]
  },
  {
   "cell_type": "code",
   "execution_count": 0,
   "metadata": {
    "colab": {},
    "colab_type": "code",
    "id": "c8BkGYvjvtbf",
    "provenance": [
     {
      "end_time": "Unknown",
      "execution_time": "Unknown",
      "outputs": [],
      "source": "test_y = pd.DataFrame(test_y)",
      "start_time": "Unknown"
     }
    ]
   },
   "outputs": [],
   "source": [
    "test_y = pd.DataFrame(test_y)"
   ]
  },
  {
   "cell_type": "code",
   "execution_count": 0,
   "metadata": {
    "colab": {
     "base_uri": "https://localhost:8080/",
     "height": 51
    },
    "colab_type": "code",
    "executionInfo": {
     "elapsed": 4910,
     "status": "ok",
     "timestamp": 1586484273353,
     "user": {
      "displayName": "shagun gupta",
      "photoUrl": "https://lh3.googleusercontent.com/a-/AOh14Gi00i7-GRr42uUUPObpB_JPCTxu9SSDZYJeG5g5=s64",
      "userId": "18231311259389961451"
     },
     "user_tz": 420
    },
    "id": "TQA9HP9ruJJJ",
    "outputId": "b60e61f1-d707-42e9-faa2-7a765f54bc0c",
    "provenance": [
     {
      "end_time": "Unknown",
      "execution_time": "Unknown",
      "outputs": [
       {
        "name": "stderr",
        "output_type": "stream",
        "text": "/usr/local/lib/python3.6/dist-packages/ipykernel_launcher.py:3: RuntimeWarning: overflow encountered in exp\n  This is separate from the ipykernel package so we can avoid doing imports until\n"
       }
      ],
      "source": "y_pred = testing(test_X, w)\ny_pred= pd.DataFrame(y_pred)\ny_pred = y_pred.rename(columns={0: 'prediction'})\ny_pred['label'] = test_y[0]",
      "start_time": "Unknown"
     }
    ]
   },
   "outputs": [
    {
     "name": "stderr",
     "output_type": "stream",
     "text": [
      "/usr/local/lib/python3.6/dist-packages/ipykernel_launcher.py:3: RuntimeWarning: overflow encountered in exp\n",
      "  This is separate from the ipykernel package so we can avoid doing imports until\n"
     ]
    }
   ],
   "source": [
    "y_pred = testing(test_X, w)\n",
    "y_pred= pd.DataFrame(y_pred)\n",
    "y_pred = y_pred.rename(columns={0: 'prediction'})\n",
    "y_pred['label'] = test_y[0]"
   ]
  },
  {
   "cell_type": "code",
   "execution_count": 0,
   "metadata": {
    "colab": {},
    "colab_type": "code",
    "id": "lXCzNzgvwIFk",
    "provenance": [
     {
      "end_time": "Unknown",
      "execution_time": "Unknown",
      "outputs": [],
      "source": "y_pred['final'] = y_pred['prediction'].apply(lambda z: (0 if z < 0.5 else 1))",
      "start_time": "Unknown"
     }
    ]
   },
   "outputs": [],
   "source": [
    "y_pred['final'] = y_pred['prediction'].apply(lambda z: (0 if z < 0.5 else 1))"
   ]
  },
  {
   "cell_type": "code",
   "execution_count": 0,
   "metadata": {
    "colab": {},
    "colab_type": "code",
    "id": "fnKC6RERvq8k",
    "provenance": [
     {
      "end_time": "Unknown",
      "execution_time": "Unknown",
      "outputs": [],
      "source": "y_pred['compare'] = y_pred['label'] == y_pred['final']",
      "start_time": "Unknown"
     }
    ]
   },
   "outputs": [],
   "source": [
    "y_pred['compare'] = y_pred['label'] == y_pred['final']"
   ]
  },
  {
   "cell_type": "code",
   "execution_count": 0,
   "metadata": {
    "colab": {
     "base_uri": "https://localhost:8080/",
     "height": 34
    },
    "colab_type": "code",
    "executionInfo": {
     "elapsed": 618,
     "status": "ok",
     "timestamp": 1586484279486,
     "user": {
      "displayName": "shagun gupta",
      "photoUrl": "https://lh3.googleusercontent.com/a-/AOh14Gi00i7-GRr42uUUPObpB_JPCTxu9SSDZYJeG5g5=s64",
      "userId": "18231311259389961451"
     },
     "user_tz": 420
    },
    "id": "x8pGQWsyxFca",
    "outputId": "ad2201d7-446b-47f1-d2da-6e4005682408",
    "provenance": [
     {
      "end_time": "Unknown",
      "execution_time": "Unknown",
      "outputs": [
       {
        "data": {
         "text/plain": "0.7710843373493976"
        },
        "execution_count": 140,
        "metadata": {
         "tags": []
        },
        "output_type": "execute_result"
       }
      ],
      "source": "sum(y_pred['compare'])/y_pred.shape[0]",
      "start_time": "Unknown"
     }
    ]
   },
   "outputs": [
    {
     "data": {
      "text/plain": [
       "0.7710843373493976"
      ]
     },
     "execution_count": 140,
     "metadata": {
      "tags": []
     },
     "output_type": "execute_result"
    }
   ],
   "source": [
    "sum(y_pred['compare'])/y_pred.shape[0]"
   ]
  },
  {
   "cell_type": "code",
   "execution_count": 0,
   "metadata": {
    "colab": {},
    "colab_type": "code",
    "id": "Y8dQBvmX1QZc",
    "provenance": [
     {
      "end_time": "Unknown",
      "execution_time": "Unknown",
      "outputs": [],
      "source": "y_pred.to_csv(default_path + 'prediction.csv', index=False)",
      "start_time": "Unknown"
     }
    ]
   },
   "outputs": [],
   "source": [
    "y_pred.to_csv(default_path + 'prediction.csv', index=False)"
   ]
  },
  {
   "cell_type": "markdown",
   "metadata": {
    "colab_type": "text",
    "id": "PaXSfg0ZJage",
    "provenance": [
     {
      "last_modified": "2020-04-10T05:32:36.000Z",
      "source": "Part 2"
     }
    ]
   },
   "source": [
    "Part 2"
   ]
  },
  {
   "cell_type": "code",
   "execution_count": 0,
   "metadata": {
    "colab": {
     "base_uri": "https://localhost:8080/",
     "height": 153
    },
    "colab_type": "code",
    "executionInfo": {
     "elapsed": 6851,
     "status": "ok",
     "timestamp": 1586488304059,
     "user": {
      "displayName": "Lisa Meng",
      "photoUrl": "",
      "userId": "04031357205378867963"
     },
     "user_tz": 420
    },
    "id": "0jDAm9HGH6Ap",
    "outputId": "9eb0862c-09bd-4d28-ab87-0dedabf3ac15",
    "provenance": [
     {
      "end_time": "Unknown",
      "execution_time": "Unknown",
      "outputs": [
       {
        "data": {
         "text/plain": "MLPClassifier(activation='logistic', alpha=0.0001, batch_size='auto',\n              beta_1=0.9, beta_2=0.999, early_stopping=False, epsilon=1e-08,\n              hidden_layer_sizes=100, learning_rate='constant',\n              learning_rate_init=0.1, max_fun=15000, max_iter=1000,\n              momentum=0.9, n_iter_no_change=10, nesterovs_momentum=True,\n              power_t=0.5, random_state=None, shuffle=True, solver='sgd',\n              tol=0.0001, validation_fraction=0.1, verbose=False,\n              warm_start=False)"
        },
        "execution_count": 39,
        "metadata": {
         "tags": []
        },
        "output_type": "execute_result"
       }
      ],
      "source": "from sklearn.neural_network import MLPClassifier\nmlp = MLPClassifier(hidden_layer_sizes=(100), activation='logistic',solver='sgd', \n                    learning_rate='constant',learning_rate_init=0.1,max_iter=1000)\nmlp.fit(train_X, train_y.values.ravel())",
      "start_time": "Unknown"
     }
    ]
   },
   "outputs": [
    {
     "data": {
      "text/plain": [
       "MLPClassifier(activation='logistic', alpha=0.0001, batch_size='auto',\n",
       "              beta_1=0.9, beta_2=0.999, early_stopping=False, epsilon=1e-08,\n",
       "              hidden_layer_sizes=100, learning_rate='constant',\n",
       "              learning_rate_init=0.1, max_fun=15000, max_iter=1000,\n",
       "              momentum=0.9, n_iter_no_change=10, nesterovs_momentum=True,\n",
       "              power_t=0.5, random_state=None, shuffle=True, solver='sgd',\n",
       "              tol=0.0001, validation_fraction=0.1, verbose=False,\n",
       "              warm_start=False)"
      ]
     },
     "execution_count": 39,
     "metadata": {
      "tags": []
     },
     "output_type": "execute_result"
    }
   ],
   "source": [
    "from sklearn.neural_network import MLPClassifier\n",
    "mlp = MLPClassifier(hidden_layer_sizes=(100), activation='logistic',solver='sgd', \n",
    "                    learning_rate='constant',learning_rate_init=0.1,max_iter=1000)\n",
    "mlp.fit(train_X, train_y.values.ravel())"
   ]
  },
  {
   "cell_type": "code",
   "execution_count": 0,
   "metadata": {
    "colab": {},
    "colab_type": "code",
    "id": "1vp9E9oNEqKE",
    "provenance": [
     {
      "end_time": "Unknown",
      "execution_time": "Unknown",
      "outputs": [],
      "source": "for i in range(len(test_X)):\n    test_X[i] = test_X[i].flatten()\ntest_X = pd.DataFrame(test_X)\n\ntest_y = pd.DataFrame(test_y)",
      "start_time": "Unknown"
     }
    ]
   },
   "outputs": [],
   "source": [
    "for i in range(len(test_X)):\n",
    "    test_X[i] = test_X[i].flatten()\n",
    "test_X = pd.DataFrame(test_X)\n",
    "\n",
    "test_y = pd.DataFrame(test_y)"
   ]
  },
  {
   "cell_type": "code",
   "execution_count": 0,
   "metadata": {
    "colab": {
     "base_uri": "https://localhost:8080/",
     "height": 85
    },
    "colab_type": "code",
    "executionInfo": {
     "elapsed": 644,
     "status": "ok",
     "timestamp": 1586488336073,
     "user": {
      "displayName": "Lisa Meng",
      "photoUrl": "",
      "userId": "04031357205378867963"
     },
     "user_tz": 420
    },
    "id": "O5OQ8pBTItmt",
    "outputId": "69a0d503-c8dc-4d5c-995e-745ee0910d9e",
    "provenance": [
     {
      "end_time": "Unknown",
      "execution_time": "Unknown",
      "outputs": [
       {
        "data": {
         "text/plain": "array([1, 1, 0, 0, 0, 0, 0, 0, 1, 0, 0, 0, 0, 0, 0, 1, 1, 1, 0, 0, 0, 0,\n       0, 0, 0, 0, 0, 0, 0, 0, 0, 1, 1, 0, 0, 0, 0, 0, 1, 1, 1, 0, 0, 0,\n       0, 1, 1, 0, 0, 0, 1, 0, 0, 0, 0, 0, 0, 0, 0, 0, 0, 1, 0, 0, 0, 0,\n       1, 0, 0, 0, 0, 0, 0, 0, 1, 1, 0, 0, 0, 0, 0, 0, 0])"
        },
        "execution_count": 42,
        "metadata": {
         "tags": []
        },
        "output_type": "execute_result"
       }
      ],
      "source": "predictions = mlp.predict(test_X)\npredictions",
      "start_time": "Unknown"
     }
    ]
   },
   "outputs": [
    {
     "data": {
      "text/plain": [
       "array([1, 1, 0, 0, 0, 0, 0, 0, 1, 0, 0, 0, 0, 0, 0, 1, 1, 1, 0, 0, 0, 0,\n",
       "       0, 0, 0, 0, 0, 0, 0, 0, 0, 1, 1, 0, 0, 0, 0, 0, 1, 1, 1, 0, 0, 0,\n",
       "       0, 1, 1, 0, 0, 0, 1, 0, 0, 0, 0, 0, 0, 0, 0, 0, 0, 1, 0, 0, 0, 0,\n",
       "       1, 0, 0, 0, 0, 0, 0, 0, 1, 1, 0, 0, 0, 0, 0, 0, 0])"
      ]
     },
     "execution_count": 42,
     "metadata": {
      "tags": []
     },
     "output_type": "execute_result"
    }
   ],
   "source": [
    "predictions = mlp.predict(test_X)\n",
    "predictions"
   ]
  },
  {
   "cell_type": "code",
   "execution_count": 0,
   "metadata": {
    "colab": {
     "base_uri": "https://localhost:8080/",
     "height": 204
    },
    "colab_type": "code",
    "executionInfo": {
     "elapsed": 493,
     "status": "ok",
     "timestamp": 1586488350585,
     "user": {
      "displayName": "Lisa Meng",
      "photoUrl": "",
      "userId": "04031357205378867963"
     },
     "user_tz": 420
    },
    "id": "oy40BRbBIxaU",
    "outputId": "fb214c31-d40e-4315-d3ed-fdbe8577a445",
    "provenance": [
     {
      "end_time": "Unknown",
      "execution_time": "Unknown",
      "outputs": [
       {
        "name": "stdout",
        "output_type": "stream",
        "text": "[[60  4]\n [ 5 14]]\n              precision    recall  f1-score   support\n\n           0       0.92      0.94      0.93        64\n           1       0.78      0.74      0.76        19\n\n    accuracy                           0.89        83\n   macro avg       0.85      0.84      0.84        83\nweighted avg       0.89      0.89      0.89        83\n\n"
       }
      ],
      "source": "from sklearn.metrics import classification_report, confusion_matrix\nprint(confusion_matrix(test_y,predictions))\nprint(classification_report(test_y,predictions))",
      "start_time": "Unknown"
     }
    ]
   },
   "outputs": [
    {
     "name": "stdout",
     "output_type": "stream",
     "text": [
      "[[60  4]\n",
      " [ 5 14]]\n",
      "              precision    recall  f1-score   support\n",
      "\n",
      "           0       0.92      0.94      0.93        64\n",
      "           1       0.78      0.74      0.76        19\n",
      "\n",
      "    accuracy                           0.89        83\n",
      "   macro avg       0.85      0.84      0.84        83\n",
      "weighted avg       0.89      0.89      0.89        83\n",
      "\n"
     ]
    }
   ],
   "source": [
    "from sklearn.metrics import classification_report, confusion_matrix\n",
    "print(confusion_matrix(test_y,predictions))\n",
    "print(classification_report(test_y,predictions))"
   ]
  },
  {
   "cell_type": "code",
   "execution_count": 0,
   "metadata": {
    "colab": {},
    "colab_type": "code",
    "id": "Sei4joDtExU7",
    "provenance": [
     {
      "end_time": "Unknown",
      "execution_time": "Unknown",
      "outputs": [],
      "source": "",
      "start_time": "Unknown"
     }
    ]
   },
   "outputs": [],
   "source": []
  }
 ],
 "metadata": {
  "colab": {
   "collapsed_sections": [],
   "name": "nn.ipynb",
   "provenance": []
  },
  "kernelspec": {
   "display_name": "Python 3",
   "language": "python",
   "name": "python3"
  },
  "language_info": {
   "codemirror_mode": {
    "name": "ipython",
    "version": 3
   },
   "file_extension": ".py",
   "mimetype": "text/x-python",
   "name": "python",
   "nbconvert_exporter": "python",
   "pygments_lexer": "ipython3",
   "version": "3.7.3"
  }
 },
 "nbformat": 4,
 "nbformat_minor": 1
}
